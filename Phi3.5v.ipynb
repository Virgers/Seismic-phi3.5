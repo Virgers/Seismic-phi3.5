{
 "cells": [
  {
   "cell_type": "code",
   "execution_count": 6,
   "metadata": {},
   "outputs": [
    {
     "data": {
      "application/vnd.jupyter.widget-view+json": {
       "model_id": "4d8bf5769d5145a19b2f307c02d9fde3",
       "version_major": 2,
       "version_minor": 0
      },
      "text/plain": [
       "Loading checkpoint shards:   0%|          | 0/2 [00:00<?, ?it/s]"
      ]
     },
     "metadata": {},
     "output_type": "display_data"
    },
    {
     "name": "stderr",
     "output_type": "stream",
     "text": [
      "/home/dell/disk1/data/Software/Anaconda/envs/JLtorch/lib/python3.10/site-packages/transformers/models/auto/image_processing_auto.py:510: FutureWarning: The image_processor_class argument is deprecated and will be removed in v4.42. Please use `slow_image_processor_class`, or `fast_image_processor_class` instead\n",
      "  warnings.warn(\n",
      "Special tokens have been added in the vocabulary, make sure the associated word embeddings are fine-tuned or trained.\n",
      "/home/dell/disk1/data/Software/Anaconda/envs/JLtorch/lib/python3.10/site-packages/transformers/generation/configuration_utils.py:540: UserWarning: `do_sample` is set to `False`. However, `temperature` is set to `0.0` -- this flag is only used in sample-based generation modes. You should set `do_sample=True` or unset `temperature`.\n",
      "  warnings.warn(\n",
      "The `seen_tokens` attribute is deprecated and will be removed in v4.41. Use the `cache_position` model input instead.\n",
      "You are not running the flash-attention implementation, expect numerical differences.\n"
     ]
    },
    {
     "name": "stdout",
     "output_type": "stream",
     "text": [
      "To encapsulate, the slides feature the following segments:\n",
      "\n",
      "- Introduction: \n",
      "The presentation introduces Microsoft Azure, a cloud computing platform by Microsoft. It highlights the platform's three main types: Hyper-scale, Enterprise, and Hybrid.\n",
      "\n",
      "- Azure Overview: \n",
      "Azure is described as a continually expanding set of cloud services that help organizations meet current and future business challenges. It offers the freedom to build, manage, and deploy applications on a massive global network using favorite tools and frameworks.\n",
      "\n",
      "- Cloud Computing Services: \n",
      "The presentation outlines three types of cloud computing services provided by Azure: Infrastructure-as-a-Service (IaaS) with a focus on hosting, Platform-as-a-Service (PaaS) with a focus on building, and Software-as-a-Service (SaaS) with a focus on consumption.\n"
     ]
    }
   ],
   "source": [
    "from PIL import Image \n",
    "import requests \n",
    "from transformers import AutoModelForCausalLM \n",
    "from transformers import AutoProcessor \n",
    "\n",
    "model_id = \"/home/dell/disk1/Jinlong/Phi3.5-vision\" \n",
    "\n",
    "# Note: set _attn_implementation='eager' if you don't have flash_attn installed\n",
    "model = AutoModelForCausalLM.from_pretrained(\n",
    "  model_id, \n",
    "  device_map=\"cuda\", \n",
    "  trust_remote_code=True, \n",
    "  torch_dtype=\"auto\", \n",
    "#   _attn_implementation='flash_attention_2'    \n",
    "  _attn_implementation='eager'    \n",
    ")\n",
    "\n",
    "# for best performance, use num_crops=4 for multi-frame, num_crops=16 for single-frame.\n",
    "processor = AutoProcessor.from_pretrained(model_id, \n",
    "  trust_remote_code=True, \n",
    "  num_crops=4\n",
    ") \n",
    "\n",
    "images = []\n",
    "placeholder = \"\"\n",
    "\n",
    "# Note: if OOM, you might consider reduce number of frames in this example.\n",
    "# for i in range(1,20):\n",
    "#     url = f\"https://image.slidesharecdn.com/azureintroduction-191206101932/75/Introduction-to-Microsoft-Azure-Cloud-{i}-2048.jpg\" \n",
    "#     images.append(Image.open(requests.get(url, stream=True).raw))\n",
    "#     placeholder += f\"<|image_{i}|>\\n\"\n",
    "\n",
    "# messages = [\n",
    "#     {\"role\": \"user\", \"content\": placeholder+\"Summarize the deck of slides.\"},\n",
    "# ]\n",
    "\n",
    "image_path = '/home/dell/disk1/Jinlong/Phi3.5-vision/images/' # load image data\n",
    "\n",
    "for i in range(1, 4):\n",
    "    # Construct the local file path for each image\n",
    "    file_path = f\"{image_path}Introduction-to-Microsoft-Azure-Cloud-{i}-2048.jpg\"\n",
    "\n",
    "    # Open and append the image to the list\n",
    "    img = Image.open(file_path)\n",
    "    images.append(img)\n",
    "\n",
    "    # Append the placeholder string\n",
    "    placeholder += f\"<|image_{i}|>\\n\"\n",
    "    \n",
    "\n",
    "messages = [\n",
    "    {\"role\": \"user\", \"content\": placeholder +  \"Summarize the deck of slides.\"},\n",
    "]\n",
    "\n",
    "prompt = processor.tokenizer.apply_chat_template(\n",
    "  messages, \n",
    "  tokenize=False, \n",
    "  add_generation_prompt=True\n",
    ")\n",
    "\n",
    "inputs = processor(prompt, images, return_tensors=\"pt\").to(\"cuda:0\") \n",
    "\n",
    "generation_args = { \n",
    "    \"max_new_tokens\": 1000, \n",
    "    \"temperature\": 0.0, \n",
    "    \"do_sample\": False, \n",
    "} \n",
    "\n",
    "generate_ids = model.generate(**inputs, \n",
    "  eos_token_id=processor.tokenizer.eos_token_id, \n",
    "  **generation_args\n",
    ")\n",
    "\n",
    "# remove input tokens \n",
    "generate_ids = generate_ids[:, inputs['input_ids'].shape[1]:]\n",
    "response = processor.batch_decode(generate_ids, \n",
    "  skip_special_tokens=True, \n",
    "  clean_up_tokenization_spaces=False)[0] \n",
    "\n",
    "print(response)\n"
   ]
  }
 ],
 "metadata": {
  "kernelspec": {
   "display_name": "JLtorch",
   "language": "python",
   "name": "python3"
  },
  "language_info": {
   "codemirror_mode": {
    "name": "ipython",
    "version": 3
   },
   "file_extension": ".py",
   "mimetype": "text/x-python",
   "name": "python",
   "nbconvert_exporter": "python",
   "pygments_lexer": "ipython3",
   "version": "3.10.0"
  }
 },
 "nbformat": 4,
 "nbformat_minor": 2
}
